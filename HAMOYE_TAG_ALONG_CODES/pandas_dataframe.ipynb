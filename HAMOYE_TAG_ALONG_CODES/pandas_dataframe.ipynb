{
 "cells": [
  {
   "cell_type": "code",
   "execution_count": 6,
   "id": "1aee0e34",
   "metadata": {},
   "outputs": [],
   "source": [
    "import pandas as pd\n",
    "import numpy as np"
   ]
  },
  {
   "cell_type": "code",
   "execution_count": 3,
   "id": "9c25bad2",
   "metadata": {},
   "outputs": [
    {
     "name": "stdout",
     "output_type": "stream",
     "text": [
      "0       Monday\n",
      "1      Tuesday\n",
      "2    Wednesday\n",
      "dtype: object\n"
     ]
    }
   ],
   "source": [
    "days= pd.Series(['Monday','Tuesday','Wednesday'])\n",
    "print(days)"
   ]
  },
  {
   "cell_type": "code",
   "execution_count": 11,
   "id": "09354f00",
   "metadata": {},
   "outputs": [
    {
     "name": "stdout",
     "output_type": "stream",
     "text": [
      "['monday' 'tuesday' 'wednesday']\n"
     ]
    }
   ],
   "source": [
    "#Creating series with a numpy array\n",
    "days_list=np.array(['monday', 'tuesday','wednesday'])\n",
    "print(days_list)"
   ]
  },
  {
   "cell_type": "code",
   "execution_count": 10,
   "id": "a14356f9",
   "metadata": {},
   "outputs": [
    {
     "name": "stdout",
     "output_type": "stream",
     "text": [
      "0       monday\n",
      "1      tuesday\n",
      "2    wednesday\n",
      "dtype: object\n"
     ]
    }
   ],
   "source": [
    "days_num=pd.Series(days_list)\n",
    "print(days_num)"
   ]
  },
  {
   "cell_type": "code",
   "execution_count": 12,
   "id": "f05cf463",
   "metadata": {},
   "outputs": [
    {
     "name": "stdout",
     "output_type": "stream",
     "text": [
      "a       monday\n",
      "b      tuesday\n",
      "c    wednesday\n",
      "dtype: object\n"
     ]
    }
   ],
   "source": [
    "#indexing with strings\n",
    "days=pd.Series(['monday','tuesday','wednesday'],\n",
    "              index=['a', 'b','c'])\n",
    "print(days)\n"
   ]
  },
  {
   "cell_type": "code",
   "execution_count": 13,
   "id": "b705a6a9",
   "metadata": {},
   "outputs": [
    {
     "name": "stdout",
     "output_type": "stream",
     "text": [
      "e    thursday\n",
      "f      friday\n",
      "g    saturday\n",
      "dtype: object\n"
     ]
    }
   ],
   "source": [
    "#creating series from a dictionary\n",
    "days1=pd.Series({'e': 'thursday', 'f':'friday', 'g':'saturday'})\n",
    "print(days1)"
   ]
  },
  {
   "cell_type": "code",
   "execution_count": 14,
   "id": "4a0cf9b1",
   "metadata": {},
   "outputs": [
    {
     "data": {
      "text/plain": [
       "'thursday'"
      ]
     },
     "execution_count": 14,
     "metadata": {},
     "output_type": "execute_result"
    }
   ],
   "source": [
    "days1[0]"
   ]
  },
  {
   "cell_type": "code",
   "execution_count": 15,
   "id": "4f3acdbf",
   "metadata": {},
   "outputs": [
    {
     "data": {
      "text/plain": [
       "f      friday\n",
       "g    saturday\n",
       "dtype: object"
      ]
     },
     "execution_count": 15,
     "metadata": {},
     "output_type": "execute_result"
    }
   ],
   "source": [
    "days1[1: ]"
   ]
  },
  {
   "cell_type": "code",
   "execution_count": 16,
   "id": "2cd78b27",
   "metadata": {},
   "outputs": [
    {
     "data": {
      "text/plain": [
       "e    thursday\n",
       "f      friday\n",
       "g    saturday\n",
       "dtype: object"
      ]
     },
     "execution_count": 16,
     "metadata": {},
     "output_type": "execute_result"
    }
   ],
   "source": [
    "days1[0: ]"
   ]
  },
  {
   "cell_type": "code",
   "execution_count": 17,
   "id": "c5100a61",
   "metadata": {},
   "outputs": [
    {
     "data": {
      "text/plain": [
       "e    thursday\n",
       "f      friday\n",
       "dtype: object"
      ]
     },
     "execution_count": 17,
     "metadata": {},
     "output_type": "execute_result"
    }
   ],
   "source": [
    "days1[ :2]"
   ]
  },
  {
   "cell_type": "code",
   "execution_count": 18,
   "id": "071e16e2",
   "metadata": {},
   "outputs": [
    {
     "name": "stdout",
     "output_type": "stream",
     "text": [
      "Empty DataFrame\n",
      "Columns: []\n",
      "Index: []\n"
     ]
    }
   ],
   "source": [
    "print(pd.DataFrame())"
   ]
  },
  {
   "cell_type": "code",
   "execution_count": 22,
   "id": "a612f914",
   "metadata": {},
   "outputs": [
    {
     "name": "stdout",
     "output_type": "stream",
     "text": [
      "{'country': ['Ghana', 'Kenya', 'Nigeria', 'Togo'], 'Capital': ['Accra', 'Nairobi', 'Abuja', 'Lome'], 'Population': [10000, 8500, 35000, 12000], 'Age': [60, 70, 80, 75]}\n"
     ]
    }
   ],
   "source": [
    "#creating a dataframe from a dictionary\n",
    "df_dict = {'country': ['Ghana','Kenya', 'Nigeria','Togo'],\n",
    "          'Capital' :['Accra', 'Nairobi','Abuja','Lome'],\n",
    "          'Population' : [10000, 8500, 35000, 12000],\n",
    "          'Age' : [60, 70, 80,75]}\n",
    "print(df_dict)"
   ]
  },
  {
   "cell_type": "code",
   "execution_count": 26,
   "id": "978be779",
   "metadata": {},
   "outputs": [
    {
     "name": "stdout",
     "output_type": "stream",
     "text": [
      "{'country': ['Ghana', 'Kenya', 'Nigeria', 'Togo'], 'Capital': ['Accra', 'Nairobi', 'Abuja', 'Lome'], 'Population': [10000, 8500, 35000, 12000], 'Age': [60, 70, 80, 75]}\n"
     ]
    }
   ],
   "source": [
    "df_dict1=pd.DataFrame(df_dict, index =[2,4,6,8])\n",
    "print(df_dict)             "
   ]
  },
  {
   "cell_type": "code",
   "execution_count": 30,
   "id": "c3c15116",
   "metadata": {},
   "outputs": [],
   "source": [
    "df_list =[['Ghana','Accra',10000, 60],\n",
    "            ['Kenya', 'Nairobi',8500, 70],\n",
    "          ['Nigeria','Abuja',35000, 80],\n",
    "         ['Togo','lome',12000,75]]"
   ]
  },
  {
   "cell_type": "code",
   "execution_count": 34,
   "id": "d865feab",
   "metadata": {},
   "outputs": [
    {
     "name": "stdout",
     "output_type": "stream",
     "text": [
      "   country  Capital  Popualtion  Age\n",
      "2    Ghana    Accra       10000   60\n",
      "4    Kenya  Nairobi        8500   70\n",
      "6  Nigeria    Abuja       35000   80\n",
      "8     Togo     lome       12000   75\n"
     ]
    }
   ],
   "source": [
    "df1 = pd.DataFrame(df_list, columns=['country','Capital','Popualtion','Age'], index=[2,4,6,8])\n",
    "print(df1)"
   ]
  },
  {
   "cell_type": "markdown",
   "id": "e8b29d4a",
   "metadata": {},
   "source": [
    "df1.iloc[3]"
   ]
  },
  {
   "cell_type": "markdown",
   "id": "42c8b50a",
   "metadata": {},
   "source": [
    "# INDEXING IN PANDAS"
   ]
  },
  {
   "cell_type": "code",
   "execution_count": 36,
   "id": "0737df38",
   "metadata": {},
   "outputs": [
    {
     "data": {
      "text/plain": [
       "country        Togo\n",
       "Capital        lome\n",
       "Popualtion    12000\n",
       "Age              75\n",
       "Name: 8, dtype: object"
      ]
     },
     "execution_count": 36,
     "metadata": {},
     "output_type": "execute_result"
    }
   ],
   "source": [
    "#select row with index 3\n",
    "df1.iloc[3]"
   ]
  },
  {
   "cell_type": "code",
   "execution_count": 38,
   "id": "92dbc3b3",
   "metadata": {},
   "outputs": [
    {
     "data": {
      "text/plain": [
       "country         Kenya\n",
       "Capital       Nairobi\n",
       "Popualtion       8500\n",
       "Age                70\n",
       "Name: 4, dtype: object"
      ]
     },
     "execution_count": 38,
     "metadata": {},
     "output_type": "execute_result"
    }
   ],
   "source": [
    "#select row with index label 8\n",
    "df1.loc[4]"
   ]
  },
  {
   "cell_type": "code",
   "execution_count": 39,
   "id": "9db88b4e",
   "metadata": {},
   "outputs": [
    {
     "data": {
      "text/plain": [
       "2      Accra\n",
       "4    Nairobi\n",
       "6      Abuja\n",
       "8       lome\n",
       "Name: Capital, dtype: object"
      ]
     },
     "execution_count": 39,
     "metadata": {},
     "output_type": "execute_result"
    }
   ],
   "source": [
    "#select a colum\n",
    "df1['Capital']"
   ]
  },
  {
   "cell_type": "code",
   "execution_count": 41,
   "id": "c5c65e22",
   "metadata": {},
   "outputs": [
    {
     "data": {
      "text/plain": [
       "'Nigeria'"
      ]
     },
     "execution_count": 41,
     "metadata": {},
     "output_type": "execute_result"
    }
   ],
   "source": [
    "df1.iat[2,0]"
   ]
  },
  {
   "cell_type": "code",
   "execution_count": 49,
   "id": "2bd825ef",
   "metadata": {},
   "outputs": [
    {
     "data": {
      "text/plain": [
       "12000"
      ]
     },
     "execution_count": 49,
     "metadata": {},
     "output_type": "execute_result"
    }
   ],
   "source": [
    "df1.iat[3, 2]"
   ]
  },
  {
   "cell_type": "code",
   "execution_count": 50,
   "id": "35d591fc",
   "metadata": {},
   "outputs": [
    {
     "data": {
      "text/plain": [
       "75"
      ]
     },
     "execution_count": 50,
     "metadata": {},
     "output_type": "execute_result"
    }
   ],
   "source": [
    "df1.at[8, 'Age']"
   ]
  },
  {
   "cell_type": "code",
   "execution_count": 51,
   "id": "8547800a",
   "metadata": {},
   "outputs": [
    {
     "name": "stderr",
     "output_type": "stream",
     "text": [
      "C:\\Users\\Ann\\AppData\\Local\\Temp/ipykernel_7460/2053335143.py:1: FutureWarning: Dropping of nuisance columns in DataFrame reductions (with 'numeric_only=None') is deprecated; in a future version this will raise TypeError.  Select only valid columns before calling the reduction.\n",
      "  df1.mean()\n"
     ]
    },
    {
     "data": {
      "text/plain": [
       "Popualtion    16375.00\n",
       "Age              71.25\n",
       "dtype: float64"
      ]
     },
     "execution_count": 51,
     "metadata": {},
     "output_type": "execute_result"
    }
   ],
   "source": [
    "df1.mean()"
   ]
  },
  {
   "cell_type": "code",
   "execution_count": null,
   "id": "a46d771e",
   "metadata": {},
   "outputs": [],
   "source": [
    "df1['Population'].sum()"
   ]
  },
  {
   "cell_type": "code",
   "execution_count": 57,
   "id": "09ba461a",
   "metadata": {},
   "outputs": [
    {
     "data": {
      "text/html": [
       "<div>\n",
       "<style scoped>\n",
       "    .dataframe tbody tr th:only-of-type {\n",
       "        vertical-align: middle;\n",
       "    }\n",
       "\n",
       "    .dataframe tbody tr th {\n",
       "        vertical-align: top;\n",
       "    }\n",
       "\n",
       "    .dataframe thead th {\n",
       "        text-align: right;\n",
       "    }\n",
       "</style>\n",
       "<table border=\"1\" class=\"dataframe\">\n",
       "  <thead>\n",
       "    <tr style=\"text-align: right;\">\n",
       "      <th></th>\n",
       "      <th>Popualtion</th>\n",
       "      <th>Age</th>\n",
       "    </tr>\n",
       "  </thead>\n",
       "  <tbody>\n",
       "    <tr>\n",
       "      <th>count</th>\n",
       "      <td>4.000000</td>\n",
       "      <td>4.000000</td>\n",
       "    </tr>\n",
       "    <tr>\n",
       "      <th>mean</th>\n",
       "      <td>16375.000000</td>\n",
       "      <td>71.250000</td>\n",
       "    </tr>\n",
       "    <tr>\n",
       "      <th>std</th>\n",
       "      <td>12499.166639</td>\n",
       "      <td>8.539126</td>\n",
       "    </tr>\n",
       "    <tr>\n",
       "      <th>min</th>\n",
       "      <td>8500.000000</td>\n",
       "      <td>60.000000</td>\n",
       "    </tr>\n",
       "    <tr>\n",
       "      <th>25%</th>\n",
       "      <td>9625.000000</td>\n",
       "      <td>67.500000</td>\n",
       "    </tr>\n",
       "    <tr>\n",
       "      <th>50%</th>\n",
       "      <td>11000.000000</td>\n",
       "      <td>72.500000</td>\n",
       "    </tr>\n",
       "    <tr>\n",
       "      <th>75%</th>\n",
       "      <td>17750.000000</td>\n",
       "      <td>76.250000</td>\n",
       "    </tr>\n",
       "    <tr>\n",
       "      <th>max</th>\n",
       "      <td>35000.000000</td>\n",
       "      <td>80.000000</td>\n",
       "    </tr>\n",
       "  </tbody>\n",
       "</table>\n",
       "</div>"
      ],
      "text/plain": [
       "         Popualtion        Age\n",
       "count      4.000000   4.000000\n",
       "mean   16375.000000  71.250000\n",
       "std    12499.166639   8.539126\n",
       "min     8500.000000  60.000000\n",
       "25%     9625.000000  67.500000\n",
       "50%    11000.000000  72.500000\n",
       "75%    17750.000000  76.250000\n",
       "max    35000.000000  80.000000"
      ]
     },
     "execution_count": 57,
     "metadata": {},
     "output_type": "execute_result"
    }
   ],
   "source": [
    "df1.describe()"
   ]
  },
  {
   "cell_type": "markdown",
   "id": "c08c3232",
   "metadata": {},
   "source": [
    "# DEALING WITH MISSING VALUES"
   ]
  },
  {
   "cell_type": "code",
   "execution_count": null,
   "id": "c33ab5af",
   "metadata": {},
   "outputs": [],
   "source": []
  },
  {
   "cell_type": "code",
   "execution_count": 59,
   "id": "fc0a8a0d",
   "metadata": {},
   "outputs": [],
   "source": [
    "df_dict2 ={'Name':['James','Yemen','Caro','np.nan'],\n",
    "          'Profession': ['Recoder','Artist','Doctor','Writer'],\n",
    "          'Experience': [12,np.nan,10,8],\n",
    "          'Height':[np.nan,175,180,150]}"
   ]
  },
  {
   "cell_type": "code",
   "execution_count": 61,
   "id": "edb15251",
   "metadata": {},
   "outputs": [
    {
     "name": "stdout",
     "output_type": "stream",
     "text": [
      "     Name Profession  Experience  Height\n",
      "0   James    Recoder        12.0     NaN\n",
      "1   Yemen     Artist         NaN   175.0\n",
      "2    Caro     Doctor        10.0   180.0\n",
      "3  np.nan     Writer         8.0   150.0\n"
     ]
    }
   ],
   "source": [
    "new_df=pd.DataFrame(df_dict2)\n",
    "print(new_df)"
   ]
  },
  {
   "cell_type": "code",
   "execution_count": 62,
   "id": "b81f3faf",
   "metadata": {},
   "outputs": [
    {
     "data": {
      "text/html": [
       "<div>\n",
       "<style scoped>\n",
       "    .dataframe tbody tr th:only-of-type {\n",
       "        vertical-align: middle;\n",
       "    }\n",
       "\n",
       "    .dataframe tbody tr th {\n",
       "        vertical-align: top;\n",
       "    }\n",
       "\n",
       "    .dataframe thead th {\n",
       "        text-align: right;\n",
       "    }\n",
       "</style>\n",
       "<table border=\"1\" class=\"dataframe\">\n",
       "  <thead>\n",
       "    <tr style=\"text-align: right;\">\n",
       "      <th></th>\n",
       "      <th>Name</th>\n",
       "      <th>Profession</th>\n",
       "      <th>Experience</th>\n",
       "      <th>Height</th>\n",
       "    </tr>\n",
       "  </thead>\n",
       "  <tbody>\n",
       "    <tr>\n",
       "      <th>0</th>\n",
       "      <td>False</td>\n",
       "      <td>False</td>\n",
       "      <td>False</td>\n",
       "      <td>True</td>\n",
       "    </tr>\n",
       "    <tr>\n",
       "      <th>1</th>\n",
       "      <td>False</td>\n",
       "      <td>False</td>\n",
       "      <td>True</td>\n",
       "      <td>False</td>\n",
       "    </tr>\n",
       "    <tr>\n",
       "      <th>2</th>\n",
       "      <td>False</td>\n",
       "      <td>False</td>\n",
       "      <td>False</td>\n",
       "      <td>False</td>\n",
       "    </tr>\n",
       "    <tr>\n",
       "      <th>3</th>\n",
       "      <td>False</td>\n",
       "      <td>False</td>\n",
       "      <td>False</td>\n",
       "      <td>False</td>\n",
       "    </tr>\n",
       "  </tbody>\n",
       "</table>\n",
       "</div>"
      ],
      "text/plain": [
       "    Name  Profession  Experience  Height\n",
       "0  False       False       False    True\n",
       "1  False       False        True   False\n",
       "2  False       False       False   False\n",
       "3  False       False       False   False"
      ]
     },
     "execution_count": 62,
     "metadata": {},
     "output_type": "execute_result"
    }
   ],
   "source": [
    "new_df.isna()"
   ]
  },
  {
   "cell_type": "code",
   "execution_count": 65,
   "id": "1d1d3be9",
   "metadata": {},
   "outputs": [
    {
     "data": {
      "text/html": [
       "<div>\n",
       "<style scoped>\n",
       "    .dataframe tbody tr th:only-of-type {\n",
       "        vertical-align: middle;\n",
       "    }\n",
       "\n",
       "    .dataframe tbody tr th {\n",
       "        vertical-align: top;\n",
       "    }\n",
       "\n",
       "    .dataframe thead th {\n",
       "        text-align: right;\n",
       "    }\n",
       "</style>\n",
       "<table border=\"1\" class=\"dataframe\">\n",
       "  <thead>\n",
       "    <tr style=\"text-align: right;\">\n",
       "      <th></th>\n",
       "      <th>Name</th>\n",
       "      <th>Profession</th>\n",
       "      <th>Experience</th>\n",
       "      <th>Height</th>\n",
       "    </tr>\n",
       "  </thead>\n",
       "  <tbody>\n",
       "    <tr>\n",
       "      <th>2</th>\n",
       "      <td>Caro</td>\n",
       "      <td>Doctor</td>\n",
       "      <td>10.0</td>\n",
       "      <td>180.0</td>\n",
       "    </tr>\n",
       "    <tr>\n",
       "      <th>3</th>\n",
       "      <td>np.nan</td>\n",
       "      <td>Writer</td>\n",
       "      <td>8.0</td>\n",
       "      <td>150.0</td>\n",
       "    </tr>\n",
       "  </tbody>\n",
       "</table>\n",
       "</div>"
      ],
      "text/plain": [
       "     Name Profession  Experience  Height\n",
       "2    Caro     Doctor        10.0   180.0\n",
       "3  np.nan     Writer         8.0   150.0"
      ]
     },
     "execution_count": 65,
     "metadata": {},
     "output_type": "execute_result"
    }
   ],
   "source": [
    "new_df.dropna()"
   ]
  },
  {
   "cell_type": "code",
   "execution_count": null,
   "id": "c7fbb987",
   "metadata": {},
   "outputs": [],
   "source": []
  }
 ],
 "metadata": {
  "kernelspec": {
   "display_name": "Python 3 (ipykernel)",
   "language": "python",
   "name": "python3"
  },
  "language_info": {
   "codemirror_mode": {
    "name": "ipython",
    "version": 3
   },
   "file_extension": ".py",
   "mimetype": "text/x-python",
   "name": "python",
   "nbconvert_exporter": "python",
   "pygments_lexer": "ipython3",
   "version": "3.9.7"
  }
 },
 "nbformat": 4,
 "nbformat_minor": 5
}
