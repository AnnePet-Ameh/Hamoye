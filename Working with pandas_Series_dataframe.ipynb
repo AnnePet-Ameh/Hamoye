{
  "nbformat": 4,
  "nbformat_minor": 0,
  "metadata": {
    "colab": {
      "provenance": [],
      "authorship_tag": "ABX9TyMFam8O0HjjfoEtTc849cnV",
      "include_colab_link": true
    },
    "kernelspec": {
      "name": "python3",
      "display_name": "Python 3"
    },
    "language_info": {
      "name": "python"
    }
  },
  "cells": [
    {
      "cell_type": "markdown",
      "metadata": {
        "id": "view-in-github",
        "colab_type": "text"
      },
      "source": [
        "<a href=\"https://colab.research.google.com/github/AnnePet-Ameh/Hamoye/blob/main/Working%20with%20pandas_Series_dataframe.ipynb\" target=\"_parent\"><img src=\"https://colab.research.google.com/assets/colab-badge.svg\" alt=\"Open In Colab\"/></a>"
      ]
    },
    {
      "cell_type": "code",
      "execution_count": null,
      "metadata": {
        "id": "DUm8_NPs5wPE"
      },
      "outputs": [],
      "source": [
        "import pandas as pd"
      ]
    },
    {
      "cell_type": "code",
      "source": [
        "calories = [400, 200, 600,800]\n",
        "myvar = pd.Series(calories)\n",
        "myvar"
      ],
      "metadata": {
        "colab": {
          "base_uri": "https://localhost:8080/"
        },
        "id": "9iJNibtHEZDG",
        "outputId": "1b37bf45-7b8e-45ab-f18f-57da48964fcc"
      },
      "execution_count": null,
      "outputs": [
        {
          "output_type": "execute_result",
          "data": {
            "text/plain": [
              "0    400\n",
              "1    200\n",
              "2    600\n",
              "3    800\n",
              "dtype: int64"
            ]
          },
          "metadata": {},
          "execution_count": 4
        }
      ]
    },
    {
      "cell_type": "code",
      "source": [
        "myvar = pd.series(calories , index =[\"day1\", \"day2\", \"day3\", \"day4\"])\n"
      ],
      "metadata": {
        "id": "7Xtpv44kI_ga"
      },
      "execution_count": null,
      "outputs": []
    },
    {
      "cell_type": "code",
      "source": [
        "myvar[1]"
      ],
      "metadata": {
        "id": "HIh4nXmQGXnM",
        "colab": {
          "base_uri": "https://localhost:8080/"
        },
        "outputId": "c5133d9d-9a6f-4b73-84bc-5695bc358301"
      },
      "execution_count": 8,
      "outputs": [
        {
          "output_type": "execute_result",
          "data": {
            "text/plain": [
              "200"
            ]
          },
          "metadata": {},
          "execution_count": 8
        }
      ]
    },
    {
      "cell_type": "code",
      "source": [
        "myvar=pd.Series(calories, index =[\"day1\", \"day2\", \"day3\",\"day4\"])\n",
        "\n",
        "myvar"
      ],
      "metadata": {
        "colab": {
          "base_uri": "https://localhost:8080/"
        },
        "id": "6_3z8nfTU0Pt",
        "outputId": "8ab6bdf8-6817-4213-af3c-135b290d1ff4"
      },
      "execution_count": 10,
      "outputs": [
        {
          "output_type": "execute_result",
          "data": {
            "text/plain": [
              "day1    400\n",
              "day2    200\n",
              "day3    600\n",
              "day4    800\n",
              "dtype: int64"
            ]
          },
          "metadata": {},
          "execution_count": 10
        }
      ]
    },
    {
      "cell_type": "code",
      "source": [
        "myvar[0]"
      ],
      "metadata": {
        "colab": {
          "base_uri": "https://localhost:8080/"
        },
        "id": "VpSN-gcSWNyu",
        "outputId": "1575defd-531f-4f09-dc97-ac5ecd65d0d6"
      },
      "execution_count": 11,
      "outputs": [
        {
          "output_type": "execute_result",
          "data": {
            "text/plain": [
              "400"
            ]
          },
          "metadata": {},
          "execution_count": 11
        }
      ]
    },
    {
      "cell_type": "code",
      "source": [
        "myvar.loc[\"day1\"]"
      ],
      "metadata": {
        "colab": {
          "base_uri": "https://localhost:8080/"
        },
        "id": "oi7y7mAsWSDd",
        "outputId": "4ee3da13-116e-4208-e794-8ad5d207f317"
      },
      "execution_count": 12,
      "outputs": [
        {
          "output_type": "execute_result",
          "data": {
            "text/plain": [
              "400"
            ]
          },
          "metadata": {},
          "execution_count": 12
        }
      ]
    },
    {
      "cell_type": "code",
      "source": [
        "calories={\"day1\":2, \"day2\" :4, \"day3\":5,\"day4\":6}\n",
        "\n",
        "myvar=pd.Series(calories)\n",
        "myvar"
      ],
      "metadata": {
        "colab": {
          "base_uri": "https://localhost:8080/"
        },
        "id": "1wdJD9-bWwUj",
        "outputId": "9a3fa349-e2e8-4306-d392-17fc827b4de5"
      },
      "execution_count": 13,
      "outputs": [
        {
          "output_type": "execute_result",
          "data": {
            "text/plain": [
              "day1    2\n",
              "day2    4\n",
              "day3    5\n",
              "day4    6\n",
              "dtype: int64"
            ]
          },
          "metadata": {},
          "execution_count": 13
        }
      ]
    },
    {
      "cell_type": "code",
      "source": [
        "myvar.values"
      ],
      "metadata": {
        "colab": {
          "base_uri": "https://localhost:8080/"
        },
        "id": "LplHF1VxZKhc",
        "outputId": "32cff801-9fa2-42e0-dcad-ecc45117077d"
      },
      "execution_count": 14,
      "outputs": [
        {
          "output_type": "execute_result",
          "data": {
            "text/plain": [
              "array([2, 4, 5, 6])"
            ]
          },
          "metadata": {},
          "execution_count": 14
        }
      ]
    }
  ]
}