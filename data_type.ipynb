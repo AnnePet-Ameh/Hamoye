{
 "cells": [
  {
   "cell_type": "code",
   "execution_count": 8,
   "id": "640aada5",
   "metadata": {},
   "outputs": [],
   "source": [
    "import pandas as pd"
   ]
  },
  {
   "cell_type": "code",
   "execution_count": 9,
   "id": "c1a27f93",
   "metadata": {},
   "outputs": [],
   "source": [
    "#reading csv file\n",
    "# csv_df=pd.read_csv('samplefile.csv')\n",
    "# csv_df.to_csv(samplefile.csv, index=false)"
   ]
  },
  {
   "cell_type": "code",
   "execution_count": 10,
   "id": "545f40d9",
   "metadata": {},
   "outputs": [],
   "source": [
    "# excel_df = pd.read_excel('samplefile.xlsx')\n",
    "# excel_df.to_excel('samplefile.xlxs')\n"
   ]
  },
  {
   "cell_type": "code",
   "execution_count": 11,
   "id": "865299a7",
   "metadata": {},
   "outputs": [],
   "source": [
    "# html_df=pd.read_html('https://www.webpage.com/samplefile.html)\n",
    "# html_df.to_html('sample_file.html')"
   ]
  },
  {
   "cell_type": "code",
   "execution_count": 14,
   "id": "be79c4d2",
   "metadata": {},
   "outputs": [],
   "source": [
    "# url='https://github.com/WalePhenomenon/climate_change/blob/master/fuel_ferc1.csv?raw=true'"
   ]
  },
  {
   "cell_type": "code",
   "execution_count": 18,
   "id": "b03aa500",
   "metadata": {},
   "outputs": [],
   "source": [
    "url = 'https://github.com/WalePhenomenon/climate_change/tree/0de7b3fab59f1063b8ab8774dea7b015d6edc318#climate_change'"
   ]
  },
  {
   "cell_type": "code",
   "execution_count": null,
   "id": "53ee352c",
   "metadata": {},
   "outputs": [],
   "source": [
    "# fuel_data = pd.read_csv(url, error_bad_line=False)\n",
    "# fuel_data.describe(include = 'all')"
   ]
  },
  {
   "cell_type": "code",
   "execution_count": null,
   "id": "989dea6c",
   "metadata": {},
   "outputs": [],
   "source": [
    "#checking for null value\n",
    "fuel_data.isnull().sum()"
   ]
  }
 ],
 "metadata": {
  "kernelspec": {
   "display_name": "Python 3 (ipykernel)",
   "language": "python",
   "name": "python3"
  },
  "language_info": {
   "codemirror_mode": {
    "name": "ipython",
    "version": 3
   },
   "file_extension": ".py",
   "mimetype": "text/x-python",
   "name": "python",
   "nbconvert_exporter": "python",
   "pygments_lexer": "ipython3",
   "version": "3.9.7"
  }
 },
 "nbformat": 4,
 "nbformat_minor": 5
}
